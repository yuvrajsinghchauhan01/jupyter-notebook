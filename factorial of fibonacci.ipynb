{
 "cells": [
  {
   "cell_type": "code",
   "execution_count": null,
   "metadata": {},
   "outputs": [],
   "source": [
    "import math\n",
    "\n",
    "def is_prime(n):\n",
    "    \"\"\"Helper function to check if a number is prime\"\"\"\n",
    "    if n < 2:\n",
    "        return False\n",
    "    for i in range(2, int(math.sqrt(n))+1):\n",
    "        if n % i == 0:\n",
    "            return False\n",
    "    return True\n",
    "\n",
    "def fibonacci(n):\n",
    "    \"\"\"Helper function to compute the nth Fibonacci number using recursion\"\"\"\n",
    "    if n < 2:\n",
    "        return n\n",
    "    else:\n",
    "        return fibonacci(n-1) + fibonacci(n-2)\n",
    "\n",
    "def func(N):\n",
    "    fibonacci_list = []\n",
    "    factorial_list = []\n",
    "    for i in range(N):\n",
    "        # Compute the ith Fibonacci number using the fibonacci helper function\n",
    "        fib = fibonacci(i)\n",
    "        fibonacci_list.append(fib)\n",
    "        \n",
    "        # Check if the ith Fibonacci number is prime\n",
    "        if is_prime(fib):\n",
    "            # Compute the factorial of the prime number\n",
    "            fact = 1\n",
    "            for j in range(2, fib+1):\n",
    "                fact *= j\n",
    "            factorial_list.append(fact)\n",
    "        else:\n",
    "            factorial_list.append(fib)\n",
    "            \n",
    "    return fibonacci_list, factorial_list\n"
   ]
  }
 ],
 "metadata": {
  "kernelspec": {
   "display_name": "base",
   "language": "python",
   "name": "python3"
  },
  "language_info": {
   "name": "python",
   "version": "3.9.13"
  },
  "orig_nbformat": 4
 },
 "nbformat": 4,
 "nbformat_minor": 2
}
