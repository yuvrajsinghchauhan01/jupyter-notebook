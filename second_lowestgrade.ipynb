{
 "cells": [
  {
   "cell_type": "code",
   "execution_count": null,
   "metadata": {},
   "outputs": [],
   "source": [
    "# Given the names and grades for each student in a class of N students,\n",
    "#  store them in a nested list and print the name(s) of any student(s)\n",
    "#  having the second lowest grade."
   ]
  },
  {
   "cell_type": "code",
   "execution_count": 3,
   "metadata": {},
   "outputs": [],
   "source": [
    "python_students = [['Harry', 37.21], ['Berry', 37.21], ['Tina', 37.2], ['Akriti', 41], ['Harsh', 39]]"
   ]
  },
  {
   "cell_type": "code",
   "execution_count": 4,
   "metadata": {},
   "outputs": [
    {
     "name": "stdout",
     "output_type": "stream",
     "text": [
      "Berry\n",
      "Harry\n"
     ]
    }
   ],
   "source": [
    "if __name__ == '__main__':\n",
    "    # python_student = []\n",
    "    # for _ in range(int(input())):\n",
    "    #     name = input()\n",
    "    #     score = float(input())\n",
    "    #     python_student.append([name,score])\n",
    "    python_student = [['Harry', 37.21], ['Berry', 37.21], ['Tina', 37.2], ['Akriti', 41], ['Harsh', 39]]\n",
    "    \n",
    "    x = 9999 \n",
    "    #finding lowest value  \n",
    "    for i in range(len(python_student)):\n",
    "        if x > float(python_student[i][1]):\n",
    "            x = float(python_student[i][1])\n",
    "    y = 999999\n",
    "    #finding second largest value\n",
    "    for i in range(len(python_student)):\n",
    "        if float(python_student[i][1]) > x and y > float(python_student[i][1]):\n",
    "            y = float(python_student[i][1])\n",
    "    runner = []\n",
    "    #storing the names of students with second largest value\n",
    "    for i in range(len(python_student)):\n",
    "        if float(python_student[i][1]) == float(y):\n",
    "            runner.append(python_student[i][0])\n",
    "    runner = sorted(runner)\n",
    "\n",
    "    for i in range(len(runner)):\n",
    "        print(runner[i])        \n",
    "                     \n",
    "                   \n"
   ]
  },
  {
   "cell_type": "code",
   "execution_count": null,
   "metadata": {},
   "outputs": [],
   "source": []
  }
 ],
 "metadata": {
  "kernelspec": {
   "display_name": "base",
   "language": "python",
   "name": "python3"
  },
  "language_info": {
   "codemirror_mode": {
    "name": "ipython",
    "version": 3
   },
   "file_extension": ".py",
   "mimetype": "text/x-python",
   "name": "python",
   "nbconvert_exporter": "python",
   "pygments_lexer": "ipython3",
   "version": "3.9.13"
  },
  "orig_nbformat": 4,
  "vscode": {
   "interpreter": {
    "hash": "d33d37d90f6dcc237810f8486cd8dc6017191ecb0b79397eff32db2daaa4660e"
   }
  }
 },
 "nbformat": 4,
 "nbformat_minor": 2
}
