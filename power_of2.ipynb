{
 "cells": [
  {
   "cell_type": "code",
   "execution_count": null,
   "metadata": {},
   "outputs": [],
   "source": [
    "def power():\n",
    "    x = 230789\n",
    "    p = 1\n",
    "    ans=\"No\"\n",
    "    if x==1:\n",
    "        print(\"Yes\")\n",
    "    else:    \n",
    "        if x%2==0:\n",
    "            while True:\n",
    "                if 2**p == x:\n",
    "                    print(\"Yes\")\n",
    "                    break\n",
    "                p+=1\n",
    "        else:\n",
    "            print(\"No\")        \n",
    "\n",
    "   \n",
    "\n",
    "\n",
    "    \n",
    "\n",
    "power()"
   ]
  }
 ],
 "metadata": {
  "kernelspec": {
   "display_name": "Python 3",
   "language": "python",
   "name": "python3"
  },
  "language_info": {
   "name": "python",
   "version": "3.11.1 (v3.11.1:a7a450f84a, Dec  6 2022, 15:24:06) [Clang 13.0.0 (clang-1300.0.29.30)]"
  },
  "orig_nbformat": 4,
  "vscode": {
   "interpreter": {
    "hash": "aee8b7b246df8f9039afb4144a1f6fd8d2ca17a180786b69acc140d282b71a49"
   }
  }
 },
 "nbformat": 4,
 "nbformat_minor": 2
}
