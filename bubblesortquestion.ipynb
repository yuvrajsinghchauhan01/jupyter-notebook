{
 "cells": [
  {
   "cell_type": "code",
   "execution_count": null,
   "metadata": {},
   "outputs": [],
   "source": [
    "'''Given an unsorted list of integers. Return the sum of the first and last elements of the list after \n",
    " sorting the first k elements of the list using Bubble Sort.\n",
    "\n",
    " Input Format\n",
    "Space separated values for Integers, arr\n",
    "Value of k\n",
    "\n",
    "\n",
    "Output Format\n",
    "The required sum\n",
    "\n",
    "\n",
    "Example Input\n",
    "64 34 25 12 22 11 90\n",
    "4\n",
    "Example Output\n",
    "102\n",
    "'''"
   ]
  },
  {
   "cell_type": "code",
   "execution_count": 1,
   "metadata": {},
   "outputs": [],
   "source": [
    "def bubbleSort(arr,k):\n",
    "    \"\"\"\n",
    "    argument arr is list, k is int\n",
    "    store result in res\n",
    "    \"\"\"\n",
    "    \n",
    "    res=0\n",
    "    #YOUR CODE GOES HERE\n",
    "    for i in range(k):\n",
    "        for j in range(k-i-1):\n",
    "            if arr[j]>arr[j+1]:\n",
    "                arr[j],arr[j+1]=arr[j+1],arr[j]\n",
    "    res = arr[0]+arr[-1]        \n",
    "    \n",
    "    return res"
   ]
  },
  {
   "cell_type": "code",
   "execution_count": 2,
   "metadata": {},
   "outputs": [
    {
     "data": {
      "text/plain": [
       "102"
      ]
     },
     "execution_count": 2,
     "metadata": {},
     "output_type": "execute_result"
    }
   ],
   "source": [
    "bubbleSort([64,34,25,12,22,11,90],4)"
   ]
  },
  {
   "cell_type": "code",
   "execution_count": null,
   "metadata": {},
   "outputs": [],
   "source": []
  }
 ],
 "metadata": {
  "kernelspec": {
   "display_name": "base",
   "language": "python",
   "name": "python3"
  },
  "language_info": {
   "codemirror_mode": {
    "name": "ipython",
    "version": 3
   },
   "file_extension": ".py",
   "mimetype": "text/x-python",
   "name": "python",
   "nbconvert_exporter": "python",
   "pygments_lexer": "ipython3",
   "version": "3.9.13"
  },
  "orig_nbformat": 4,
  "vscode": {
   "interpreter": {
    "hash": "d33d37d90f6dcc237810f8486cd8dc6017191ecb0b79397eff32db2daaa4660e"
   }
  }
 },
 "nbformat": 4,
 "nbformat_minor": 2
}
