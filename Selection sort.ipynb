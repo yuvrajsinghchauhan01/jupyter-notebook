{
 "cells": [
  {
   "cell_type": "code",
   "execution_count": 1,
   "id": "d97572f5",
   "metadata": {},
   "outputs": [],
   "source": [
    "def selection_sort(a):\n",
    "    for i in range(len(a)-1):\n",
    "        current_min = i\n",
    "        for j in range(i+1,len(a)):\n",
    "            if a[j]<a[current_min]:\n",
    "                current_min = j\n",
    "        if i != current_min:\n",
    "            a[i],a[current_min]=a[current_min],a[i]\n",
    "    return a        "
   ]
  },
  {
   "cell_type": "code",
   "execution_count": 2,
   "id": "83de1198",
   "metadata": {},
   "outputs": [
    {
     "name": "stdout",
     "output_type": "stream",
     "text": [
      "[4, 5, 6, 7, 8, 9]\n"
     ]
    }
   ],
   "source": [
    "print(selection_sort([9,8,7,6,5,4]))"
   ]
  },
  {
   "cell_type": "code",
   "execution_count": null,
   "id": "2dbb5417",
   "metadata": {},
   "outputs": [],
   "source": []
  }
 ],
 "metadata": {
  "kernelspec": {
   "display_name": "Python 3 (ipykernel)",
   "language": "python",
   "name": "python3"
  },
  "language_info": {
   "codemirror_mode": {
    "name": "ipython",
    "version": 3
   },
   "file_extension": ".py",
   "mimetype": "text/x-python",
   "name": "python",
   "nbconvert_exporter": "python",
   "pygments_lexer": "ipython3",
   "version": "3.9.13"
  }
 },
 "nbformat": 4,
 "nbformat_minor": 5
}
