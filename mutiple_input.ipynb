{
 "cells": [
  {
   "cell_type": "code",
   "execution_count": 2,
   "id": "4c610bed",
   "metadata": {},
   "outputs": [
    {
     "name": "stdout",
     "output_type": "stream",
     "text": [
      "1\n",
      "1 2 3 4 5 6 7 8 9 10 \n",
      "2\n",
      "2 4 6 8 10 12 14 16 18 20 \n",
      "3\n",
      "3 6 9 12 15 18 21 24 27 30 \n"
     ]
    }
   ],
   "source": [
    "T = 3\n",
    "j = 1\n",
    "while j<=T:\n",
    "    n = int(input())\n",
    "    i = n\n",
    "    while i<=n*10:\n",
    "        print(i,end=\" \")\n",
    "        i+=n\n",
    "    print()\n",
    "    j+=1"
   ]
  },
  {
   "cell_type": "code",
   "execution_count": null,
   "id": "84ab304b",
   "metadata": {},
   "outputs": [],
   "source": []
  }
 ],
 "metadata": {
  "kernelspec": {
   "display_name": "Python 3 (ipykernel)",
   "language": "python",
   "name": "python3"
  },
  "language_info": {
   "codemirror_mode": {
    "name": "ipython",
    "version": 3
   },
   "file_extension": ".py",
   "mimetype": "text/x-python",
   "name": "python",
   "nbconvert_exporter": "python",
   "pygments_lexer": "ipython3",
   "version": "3.9.13"
  }
 },
 "nbformat": 4,
 "nbformat_minor": 5
}
