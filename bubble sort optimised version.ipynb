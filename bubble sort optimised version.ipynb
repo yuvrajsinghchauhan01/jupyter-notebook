{
 "cells": [
  {
   "cell_type": "code",
   "execution_count": 6,
   "id": "f2e2b5e2",
   "metadata": {},
   "outputs": [],
   "source": [
    "def bubble_sort_optimised(a):\n",
    "    for i in range(len(a)):\n",
    "        is_sorted = True\n",
    "       \n",
    "        for j in range(len(a)-i-1):\n",
    "           \n",
    "            if a[j]>a[j+1]:\n",
    "                is_sorted = False\n",
    "                a[j],a[j+1]=a[j+1],a[j]\n",
    "        if is_sorted:\n",
    "            break\n",
    "           \n",
    "    return a        "
   ]
  },
  {
   "cell_type": "code",
   "execution_count": 7,
   "id": "66e40ad8",
   "metadata": {},
   "outputs": [
    {
     "name": "stdout",
     "output_type": "stream",
     "text": [
      "[1, 2, 3, 5, 6, 7]\n"
     ]
    }
   ],
   "source": [
    "print(bubble_sort_optimised([1,2,3,7,5,6]))"
   ]
  },
  {
   "cell_type": "code",
   "execution_count": null,
   "id": "fbb319ef",
   "metadata": {},
   "outputs": [],
   "source": []
  }
 ],
 "metadata": {
  "kernelspec": {
   "display_name": "Python 3 (ipykernel)",
   "language": "python",
   "name": "python3"
  },
  "language_info": {
   "codemirror_mode": {
    "name": "ipython",
    "version": 3
   },
   "file_extension": ".py",
   "mimetype": "text/x-python",
   "name": "python",
   "nbconvert_exporter": "python",
   "pygments_lexer": "ipython3",
   "version": "3.9.13"
  }
 },
 "nbformat": 4,
 "nbformat_minor": 5
}
