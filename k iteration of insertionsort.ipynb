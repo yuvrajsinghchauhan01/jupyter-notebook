{
 "cells": [
  {
   "cell_type": "code",
   "execution_count": 1,
   "metadata": {},
   "outputs": [
    {
     "data": {
      "text/plain": [
       "'\\nProblem Description\\nGiven a list of numbers, perform k iterations of insertion sort on it and return the element present at the center.\\n\\nNote:\\nFor a list of length n, return the n//2th indexed element after applying k iterations of insertion sort.\\n\\nInput Format\\nThe first line contains space separated values of Integers, arr\\nThe value of k\\n\\n\\nOutput Format\\nThe element at center after k iterations of insertion sort.\\n\\n\\nExample Input\\n12 11 13 5 6\\n2\\n\\n\\nExample Output\\n13\\n\\n\\nExample Explanation\\nThe list after 2 iterations of insertion sort becomes [11, 12, 13, 5, 6]. So the central element is 13.\\n'"
      ]
     },
     "execution_count": 1,
     "metadata": {},
     "output_type": "execute_result"
    }
   ],
   "source": [
    "'''\n",
    "Problem Description\n",
    "Given a list of numbers, perform k iterations of insertion sort on it and return the element present at the center.\n",
    "\n",
    "Note:\n",
    "For a list of length n, return the n//2th indexed element after applying k iterations of insertion sort.\n",
    "\n",
    "Input Format\n",
    "The first line contains space separated values of Integers, arr\n",
    "The value of k\n",
    "\n",
    "\n",
    "Output Format\n",
    "The element at center after k iterations of insertion sort.\n",
    "\n",
    "\n",
    "Example Input\n",
    "12 11 13 5 6\n",
    "2\n",
    "\n",
    "\n",
    "Example Output\n",
    "13\n",
    "\n",
    "\n",
    "Example Explanation\n",
    "The list after 2 iterations of insertion sort becomes [11, 12, 13, 5, 6]. So the central element is 13.\n",
    "'''"
   ]
  },
  {
   "cell_type": "code",
   "execution_count": 2,
   "metadata": {},
   "outputs": [],
   "source": [
    "def insertionSort(arr,k):\n",
    "    \"\"\"\n",
    "    arr is the list and k is the iteration number\n",
    "    store the result with variable name res\n",
    "    \"\"\"\n",
    "    #YOUR CODE GOES HERE\n",
    "    for i in range(1,k+1):\n",
    "        index = i\n",
    "        j = i-1\n",
    "        while j>=0:\n",
    "            if arr[j]<arr[index]:\n",
    "                break\n",
    "            arr[j],arr[index]=arr[index],arr[j]  \n",
    "            index = j\n",
    "            j-=1\n",
    "    return arr[len(arr)//2]"
   ]
  },
  {
   "cell_type": "code",
   "execution_count": 3,
   "metadata": {},
   "outputs": [
    {
     "name": "stdout",
     "output_type": "stream",
     "text": [
      "13\n"
     ]
    }
   ],
   "source": [
    "print(insertionSort([12 ,11 ,13, 5 ,6],2))"
   ]
  },
  {
   "cell_type": "code",
   "execution_count": null,
   "metadata": {},
   "outputs": [],
   "source": []
  }
 ],
 "metadata": {
  "kernelspec": {
   "display_name": "base",
   "language": "python",
   "name": "python3"
  },
  "language_info": {
   "codemirror_mode": {
    "name": "ipython",
    "version": 3
   },
   "file_extension": ".py",
   "mimetype": "text/x-python",
   "name": "python",
   "nbconvert_exporter": "python",
   "pygments_lexer": "ipython3",
   "version": "3.9.13"
  },
  "orig_nbformat": 4
 },
 "nbformat": 4,
 "nbformat_minor": 2
}
