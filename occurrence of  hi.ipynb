{
 "cells": [
  {
   "cell_type": "code",
   "execution_count": 1,
   "id": "d7371650",
   "metadata": {},
   "outputs": [],
   "source": [
    "def count_hi(count, s):\n",
    "    # Base case: if the string is empty, return the count\n",
    "    if len(s) == 0:\n",
    "        return count\n",
    "    \n",
    "    # Recursive case: check if the first two characters are \"hi\"\n",
    "    if s[:2] == \"hi\":\n",
    "        # If so, increment the count and recursively check the rest of the string\n",
    "        return count_hi(count + 1, s[2:])\n",
    "    else:\n",
    "        # If not, recursively check the rest of the string\n",
    "        return count_hi(count, s[1:])"
   ]
  },
  {
   "cell_type": "code",
   "execution_count": 6,
   "id": "2372a2e6",
   "metadata": {},
   "outputs": [
    {
     "data": {
      "text/plain": [
       "2"
      ]
     },
     "execution_count": 6,
     "metadata": {},
     "output_type": "execute_result"
    }
   ],
   "source": [
    "count_hi(0,'hishisha')"
   ]
  },
  {
   "cell_type": "code",
   "execution_count": 7,
   "id": "b153cb10",
   "metadata": {},
   "outputs": [],
   "source": [
    "def countHi(s, count=0):\n",
    "    ''' s-indicates the string,\n",
    "         output:Return the count of occurrences of \"hi\" in s'''\n",
    "    \n",
    "    # YOUR CODE GOES HERE\n",
    "    if len(s)==0:\n",
    "        return count\n",
    "    if s[:2]=='hi':\n",
    "        return countHi(s[2:],count +1)\n",
    "    else:\n",
    "        return countHi(s[1:],count)"
   ]
  },
  {
   "cell_type": "code",
   "execution_count": 8,
   "id": "480cb7ae",
   "metadata": {},
   "outputs": [
    {
     "data": {
      "text/plain": [
       "2"
      ]
     },
     "execution_count": 8,
     "metadata": {},
     "output_type": "execute_result"
    }
   ],
   "source": [
    "countHi('hishisha')"
   ]
  },
  {
   "cell_type": "code",
   "execution_count": null,
   "id": "130bdb4d",
   "metadata": {},
   "outputs": [],
   "source": []
  }
 ],
 "metadata": {
  "kernelspec": {
   "display_name": "Python 3 (ipykernel)",
   "language": "python",
   "name": "python3"
  },
  "language_info": {
   "codemirror_mode": {
    "name": "ipython",
    "version": 3
   },
   "file_extension": ".py",
   "mimetype": "text/x-python",
   "name": "python",
   "nbconvert_exporter": "python",
   "pygments_lexer": "ipython3",
   "version": "3.9.13"
  }
 },
 "nbformat": 4,
 "nbformat_minor": 5
}
