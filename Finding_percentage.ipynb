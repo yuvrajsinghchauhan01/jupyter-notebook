{
 "cells": [
  {
   "cell_type": "code",
   "execution_count": null,
   "metadata": {},
   "outputs": [],
   "source": [
    "# 2\n",
    "# Harsh 25 26.5 28\n",
    "# Anurag 26 28 30\n",
    "# # Harsh"
   ]
  },
  {
   "cell_type": "code",
   "execution_count": 1,
   "metadata": {},
   "outputs": [
    {
     "name": "stdout",
     "output_type": "stream",
     "text": [
      "23.00\n"
     ]
    }
   ],
   "source": [
    "if __name__ == '__main__':\n",
    "    # n = int(input())\n",
    "    student_marks = {}\n",
    "    # for _ in range(n):\n",
    "    #     name, *line = input().split()\n",
    "    #     scores = list(map(float, line))\n",
    "    #     student_marks[name] = scores\n",
    "    student_marks = {'harsh':[34,67.8,98],'anurag':[23,23,23]}\n",
    "    query_name = input()\n",
    "    if query_name in student_marks:\n",
    "        x = ((float(student_marks[query_name][0]) + float(student_marks[query_name][1]) + float(student_marks[query_name][2])) / 3)\n",
    "    \n",
    "    print('%.2f' % x)"
   ]
  },
  {
   "cell_type": "code",
   "execution_count": null,
   "metadata": {},
   "outputs": [],
   "source": []
  }
 ],
 "metadata": {
  "kernelspec": {
   "display_name": "base",
   "language": "python",
   "name": "python3"
  },
  "language_info": {
   "codemirror_mode": {
    "name": "ipython",
    "version": 3
   },
   "file_extension": ".py",
   "mimetype": "text/x-python",
   "name": "python",
   "nbconvert_exporter": "python",
   "pygments_lexer": "ipython3",
   "version": "3.9.13"
  },
  "orig_nbformat": 4,
  "vscode": {
   "interpreter": {
    "hash": "d33d37d90f6dcc237810f8486cd8dc6017191ecb0b79397eff32db2daaa4660e"
   }
  }
 },
 "nbformat": 4,
 "nbformat_minor": 2
}
