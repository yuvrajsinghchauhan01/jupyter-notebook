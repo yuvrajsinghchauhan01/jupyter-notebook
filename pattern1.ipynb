{
 "cells": [
  {
   "cell_type": "code",
   "execution_count": null,
   "metadata": {},
   "outputs": [],
   "source": [
    "# -------*\n",
    "# ------**\n",
    "# -----***\n",
    "# ----****\n",
    "# ---*****\n",
    "# --******\n",
    "# -*******\n",
    "# ********"
   ]
  },
  {
   "cell_type": "code",
   "execution_count": 2,
   "metadata": {},
   "outputs": [
    {
     "name": "stdout",
     "output_type": "stream",
     "text": [
      "-------*\n",
      "------**\n",
      "-----***\n",
      "----****\n",
      "---*****\n",
      "--******\n",
      "-*******\n",
      "********\n"
     ]
    }
   ],
   "source": [
    "n = 8\n",
    "for i in range(1,n+1):\n",
    "    #for space\n",
    "    for j in range(1,n-i+1):\n",
    "        print(\"-\",end=\"\")\n",
    "    #for stars\n",
    "    for j in range(i,0,-1):\n",
    "        print(\"*\",end=\"\")\n",
    "    print()        "
   ]
  },
  {
   "cell_type": "code",
   "execution_count": null,
   "metadata": {},
   "outputs": [],
   "source": []
  }
 ],
 "metadata": {
  "kernelspec": {
   "display_name": "base",
   "language": "python",
   "name": "python3"
  },
  "language_info": {
   "codemirror_mode": {
    "name": "ipython",
    "version": 3
   },
   "file_extension": ".py",
   "mimetype": "text/x-python",
   "name": "python",
   "nbconvert_exporter": "python",
   "pygments_lexer": "ipython3",
   "version": "3.9.13 (main, Aug 25 2022, 18:29:29) \n[Clang 12.0.0 ]"
  },
  "orig_nbformat": 4,
  "vscode": {
   "interpreter": {
    "hash": "d33d37d90f6dcc237810f8486cd8dc6017191ecb0b79397eff32db2daaa4660e"
   }
  }
 },
 "nbformat": 4,
 "nbformat_minor": 2
}
