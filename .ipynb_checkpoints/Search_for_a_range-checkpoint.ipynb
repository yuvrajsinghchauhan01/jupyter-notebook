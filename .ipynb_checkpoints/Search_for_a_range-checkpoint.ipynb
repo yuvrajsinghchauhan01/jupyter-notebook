{
 "cells": [
  {
   "cell_type": "code",
   "execution_count": 1,
   "metadata": {},
   "outputs": [],
   "source": [
    "def searchRange( A, B):\n",
    "        start,end = 0,len(A)-1\n",
    "        arr = [-1,-1]\n",
    "        while start<=end:\n",
    "            mid = start + (end - start)//2\n",
    "            if A[mid]==B:\n",
    "                arr[0]=mid\n",
    "                end = mid - 1\n",
    "            elif A[mid] < B:\n",
    "                start = mid +1\n",
    "            else:\n",
    "                end = mid - 1\n",
    "        if arr[0]==-1:\n",
    "            return arr\n",
    "        start = arr[0]\n",
    "        end = len(A) - 1\n",
    "        while start<=end:\n",
    "            mid = start+(end-start)//2\n",
    "            if A[mid]==B:\n",
    "                arr[1]=mid\n",
    "                start = mid + 1\n",
    "            elif A[mid] < B:\n",
    "                start = mid +1\n",
    "            else:\n",
    "                end = mid - 1\n",
    "        return arr            \n"
   ]
  },
  {
   "cell_type": "code",
   "execution_count": 2,
   "metadata": {},
   "outputs": [],
   "source": [
    "A = [5, 7, 7, 8, 8, 10]\n",
    "B = 8"
   ]
  },
  {
   "cell_type": "code",
   "execution_count": 4,
   "metadata": {},
   "outputs": [
    {
     "name": "stdout",
     "output_type": "stream",
     "text": [
      "[3, 4]\n"
     ]
    }
   ],
   "source": [
    "print(searchRange(A,B))"
   ]
  },
  {
   "cell_type": "code",
   "execution_count": null,
   "metadata": {},
   "outputs": [],
   "source": []
  }
 ],
 "metadata": {
  "kernelspec": {
   "display_name": "Python 3 (ipykernel)",
   "language": "python",
   "name": "python3"
  },
  "language_info": {
   "codemirror_mode": {
    "name": "ipython",
    "version": 3
   },
   "file_extension": ".py",
   "mimetype": "text/x-python",
   "name": "python",
   "nbconvert_exporter": "python",
   "pygments_lexer": "ipython3",
   "version": "3.9.13"
  },
  "vscode": {
   "interpreter": {
    "hash": "40d3a090f54c6569ab1632332b64b2c03c39dcf918b08424e98f38b5ae0af88f"
   }
  }
 },
 "nbformat": 4,
 "nbformat_minor": 2
}
