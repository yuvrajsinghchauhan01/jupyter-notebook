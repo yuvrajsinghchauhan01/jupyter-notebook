{
 "cells": [
  {
   "cell_type": "code",
   "execution_count": 1,
   "id": "9533d712",
   "metadata": {},
   "outputs": [],
   "source": [
    "def fibonacii_num(n):\n",
    "    #base condition\n",
    "    if n<0:\n",
    "        return \"not defined\"\n",
    "    elif n==0:\n",
    "        return 0\n",
    "    elif n==1 or n==2:\n",
    "        return 1\n",
    "    else:\n",
    "    #recursive formula\n",
    "        return fibonacii_num(n-1)+fibonacii_num(n-2)"
   ]
  },
  {
   "cell_type": "code",
   "execution_count": 2,
   "id": "30626531",
   "metadata": {},
   "outputs": [
    {
     "data": {
      "text/plain": [
       "3"
      ]
     },
     "execution_count": 2,
     "metadata": {},
     "output_type": "execute_result"
    }
   ],
   "source": [
    "fibonacii_num(4)"
   ]
  },
  {
   "cell_type": "code",
   "execution_count": null,
   "id": "09a81e66",
   "metadata": {},
   "outputs": [],
   "source": []
  }
 ],
 "metadata": {
  "kernelspec": {
   "display_name": "Python 3 (ipykernel)",
   "language": "python",
   "name": "python3"
  },
  "language_info": {
   "codemirror_mode": {
    "name": "ipython",
    "version": 3
   },
   "file_extension": ".py",
   "mimetype": "text/x-python",
   "name": "python",
   "nbconvert_exporter": "python",
   "pygments_lexer": "ipython3",
   "version": "3.9.13"
  }
 },
 "nbformat": 4,
 "nbformat_minor": 5
}
