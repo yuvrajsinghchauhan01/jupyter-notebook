{
 "cells": [
  {
   "cell_type": "code",
   "execution_count": 1,
   "metadata": {},
   "outputs": [
    {
     "name": "stdout",
     "output_type": "stream",
     "text": [
      "[2, 4]\n"
     ]
    }
   ],
   "source": [
    "def solve(A):\n",
    "        vowel = 0\n",
    "        conso = 0\n",
    "        s = A.lower()\n",
    "        arr = []\n",
    "        for i in s:\n",
    "            if i=='a' or i=='e' or i=='i' or i=='o' or i=='u':\n",
    "                vowel+=1\n",
    "            else:\n",
    "                conso+=1\n",
    "        arr.append(vowel)\n",
    "        arr.append(conso)\n",
    "        return arr\n",
    "print(solve(\"YuVraj\"))                   \n"
   ]
  },
  {
   "cell_type": "code",
   "execution_count": null,
   "metadata": {},
   "outputs": [],
   "source": []
  }
 ],
 "metadata": {
  "kernelspec": {
   "display_name": "Python 3",
   "language": "python",
   "name": "python3"
  },
  "language_info": {
   "codemirror_mode": {
    "name": "ipython",
    "version": 3
   },
   "file_extension": ".py",
   "mimetype": "text/x-python",
   "name": "python",
   "nbconvert_exporter": "python",
   "pygments_lexer": "ipython3",
   "version": "3.11.1"
  },
  "orig_nbformat": 4,
  "vscode": {
   "interpreter": {
    "hash": "aee8b7b246df8f9039afb4144a1f6fd8d2ca17a180786b69acc140d282b71a49"
   }
  }
 },
 "nbformat": 4,
 "nbformat_minor": 2
}
