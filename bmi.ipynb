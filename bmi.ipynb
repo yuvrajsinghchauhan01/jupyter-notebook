{
 "cells": [
  {
   "cell_type": "code",
   "execution_count": 10,
   "metadata": {},
   "outputs": [
    {
     "name": "stdout",
     "output_type": "stream",
     "text": [
      "Underweight\n",
      "17.6\n"
     ]
    }
   ],
   "source": [
    "def main():\n",
    "    # YOUR CODE GOES HERE\n",
    "    # Please take input and print output to standard input/output (stdin/stdout)\n",
    "    # E.g. 'input()/raw_input()' for input & 'print' for output\n",
    "    Height = int(input(\"Enter h\"))\n",
    "    Weight = int(input(\"enter W\"))\n",
    "    A = Height/100\n",
    "    B = Weight\n",
    "\n",
    "    BMI = B/(A*A)\n",
    "    if BMI<18.5:\n",
    "        print(\"Underweight\")\n",
    "        print (round(BMI,1))  \n",
    "    elif BMI>=18.5 and BMI<=24.9:\n",
    "        print(\"Normal weight\")\n",
    "        print (round(BMI,1))  \n",
    "    elif BMI>=24.9 and BMI<=29.9:\n",
    "        print(\"Overweight\")\n",
    "        print (round(BMI,1))  \n",
    "    elif BMI>29.9:\n",
    "        print(\"Obese\") \n",
    "        print (round(BMI,1))           \n",
    "\n",
    "\n",
    "    \n",
    "\n",
    "if __name__ == '__main__':\n",
    "    main()"
   ]
  },
  {
   "cell_type": "code",
   "execution_count": null,
   "metadata": {},
   "outputs": [],
   "source": []
  }
 ],
 "metadata": {
  "kernelspec": {
   "display_name": "Python 3",
   "language": "python",
   "name": "python3"
  },
  "language_info": {
   "codemirror_mode": {
    "name": "ipython",
    "version": 3
   },
   "file_extension": ".py",
   "mimetype": "text/x-python",
   "name": "python",
   "nbconvert_exporter": "python",
   "pygments_lexer": "ipython3",
   "version": "3.11.1"
  },
  "orig_nbformat": 4,
  "vscode": {
   "interpreter": {
    "hash": "aee8b7b246df8f9039afb4144a1f6fd8d2ca17a180786b69acc140d282b71a49"
   }
  }
 },
 "nbformat": 4,
 "nbformat_minor": 2
}
