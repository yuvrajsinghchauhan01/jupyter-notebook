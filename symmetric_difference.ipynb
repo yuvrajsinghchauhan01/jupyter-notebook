{
 "cells": [
  {
   "cell_type": "code",
   "execution_count": null,
   "metadata": {},
   "outputs": [],
   "source": [
    "# Enter your code here. Read input from STDIN. Print output to STDOUT\n",
    "m = int(input())\n",
    "set1 = set(list(map(int, input().split())))\n",
    "n = int(input())\n",
    "set2 = set(list(map(int, input().split())))\n",
    "#print (set1)\n",
    "#print (set2)\n",
    "\n",
    "n1 = set1.difference(set2)\n",
    "n2 = set2.difference(set1)\n",
    "L = [str(x) for x in n1] + [str(x) for x in n2]\n",
    "L.sort(key = int)\n",
    "#print (L)\n",
    "print ('\\n'.join(L))\n"
   ]
  }
 ],
 "metadata": {
  "kernelspec": {
   "display_name": "base",
   "language": "python",
   "name": "python3"
  },
  "language_info": {
   "name": "python",
   "version": "3.9.13"
  },
  "orig_nbformat": 4,
  "vscode": {
   "interpreter": {
    "hash": "d33d37d90f6dcc237810f8486cd8dc6017191ecb0b79397eff32db2daaa4660e"
   }
  }
 },
 "nbformat": 4,
 "nbformat_minor": 2
}
