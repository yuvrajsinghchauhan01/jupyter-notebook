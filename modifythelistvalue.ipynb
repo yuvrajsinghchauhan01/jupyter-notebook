{
 "cells": [
  {
   "cell_type": "code",
   "execution_count": 17,
   "metadata": {},
   "outputs": [
    {
     "name": "stdout",
     "output_type": "stream",
     "text": [
      "[10, 9, 8, 7, 6, 5, 4, 3, 2, 1]\n",
      "[10, 9, 8, 7, 6, 5, 4]\n",
      "[8, 7, 6, 5, 4]\n",
      "[8, 6, 4]\n"
     ]
    }
   ],
   "source": [
    "w =   2\n",
    "x =  2\n",
    "y =   7\n",
    "z =   -1\n",
    "\n",
    "lst = [1, 2, 3, 4, 5, 6, 7, 8, 9, 10]\n",
    "\n",
    "first_slice = lst[::z]\n",
    "print(first_slice)\n",
    "second_slice = first_slice[:y]\n",
    "print(second_slice)\n",
    "third_slice = second_slice[x:]\n",
    "print(third_slice)\n",
    "last_slice = third_slice[::w]\n",
    "print(last_slice)\n",
    "\n"
   ]
  },
  {
   "cell_type": "code",
   "execution_count": null,
   "metadata": {},
   "outputs": [],
   "source": []
  }
 ],
 "metadata": {
  "kernelspec": {
   "display_name": "Python 3",
   "language": "python",
   "name": "python3"
  },
  "language_info": {
   "codemirror_mode": {
    "name": "ipython",
    "version": 3
   },
   "file_extension": ".py",
   "mimetype": "text/x-python",
   "name": "python",
   "nbconvert_exporter": "python",
   "pygments_lexer": "ipython3",
   "version": "3.11.1"
  },
  "orig_nbformat": 4,
  "vscode": {
   "interpreter": {
    "hash": "aee8b7b246df8f9039afb4144a1f6fd8d2ca17a180786b69acc140d282b71a49"
   }
  }
 },
 "nbformat": 4,
 "nbformat_minor": 2
}
