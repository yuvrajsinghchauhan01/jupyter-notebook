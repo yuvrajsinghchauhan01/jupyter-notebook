{
 "cells": [
  {
   "cell_type": "code",
   "execution_count": 3,
   "metadata": {},
   "outputs": [
    {
     "name": "stdout",
     "output_type": "stream",
     "text": [
      "0\n"
     ]
    }
   ],
   "source": [
    "def perfect_number(n):\n",
    "    Sum = 0\n",
    "    for i in range(1,n+1):\n",
    "        if n%i==0:\n",
    "            Sum+=i\n",
    "        else:\n",
    "            continue\n",
    "    perfect_n = Sum//2\n",
    "    if perfect_n == n:\n",
    "        return 1\n",
    "\n",
    "    return 0\n",
    "n = int(input())\n",
    "print(perfect_number(n))\n"
   ]
  },
  {
   "attachments": {},
   "cell_type": "markdown",
   "metadata": {},
   "source": [
    "perfect number is something in which all perfect divisior when added and divided by 2 return the given number.<br>\n",
    "\n",
    "example: n = 6<br>\n",
    "1+2+3+6 = 12<br>\n",
    "12//2 = 6<br>\n",
    "which means n = final ans 6 hence a perfect number."
   ]
  },
  {
   "cell_type": "code",
   "execution_count": null,
   "metadata": {},
   "outputs": [],
   "source": []
  }
 ],
 "metadata": {
  "kernelspec": {
   "display_name": "Python 3",
   "language": "python",
   "name": "python3"
  },
  "language_info": {
   "codemirror_mode": {
    "name": "ipython",
    "version": 3
   },
   "file_extension": ".py",
   "mimetype": "text/x-python",
   "name": "python",
   "nbconvert_exporter": "python",
   "pygments_lexer": "ipython3",
   "version": "3.11.1 (v3.11.1:a7a450f84a, Dec  6 2022, 15:24:06) [Clang 13.0.0 (clang-1300.0.29.30)]"
  },
  "orig_nbformat": 4,
  "vscode": {
   "interpreter": {
    "hash": "aee8b7b246df8f9039afb4144a1f6fd8d2ca17a180786b69acc140d282b71a49"
   }
  }
 },
 "nbformat": 4,
 "nbformat_minor": 2
}
